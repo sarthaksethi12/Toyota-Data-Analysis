{
 "cells": [
  {
   "cell_type": "markdown",
   "id": "aa89ee97",
   "metadata": {},
   "source": [
    "# Toyota Data Analysis"
   ]
  },
  {
   "cell_type": "markdown",
   "id": "b52196c6",
   "metadata": {},
   "source": [
    "# Import data into python, make a copy of the data and display the data information"
   ]
  },
  {
   "cell_type": "code",
   "execution_count": 1,
   "id": "c303f1de",
   "metadata": {},
   "outputs": [
    {
     "name": "stdout",
     "output_type": "stream",
     "text": [
      "<class 'pandas.core.frame.DataFrame'>\n",
      "Int64Index: 1436 entries, 0 to 1435\n",
      "Data columns (total 10 columns):\n",
      " #   Column     Non-Null Count  Dtype  \n",
      "---  ------     --------------  -----  \n",
      " 0   Price      1436 non-null   int64  \n",
      " 1   Age        1336 non-null   float64\n",
      " 2   KM         1421 non-null   float64\n",
      " 3   FuelType   1336 non-null   object \n",
      " 4   HP         1430 non-null   float64\n",
      " 5   MetColor   1286 non-null   float64\n",
      " 6   Automatic  1436 non-null   int64  \n",
      " 7   CC         1436 non-null   int64  \n",
      " 8   Doors      1436 non-null   object \n",
      " 9   Weight     1436 non-null   int64  \n",
      "dtypes: float64(4), int64(4), object(2)\n",
      "memory usage: 123.4+ KB\n"
     ]
    }
   ],
   "source": [
    "import pandas as pd\n",
    "cars = pd.read_csv(\"Toyota.csv\", index_col=0, na_values=[\"??\",\"????\"])\n",
    "cars1 = cars.copy()  #cars dataframe is copied in cars1\n",
    "cars1.info()"
   ]
  },
  {
   "cell_type": "markdown",
   "id": "1210b29a",
   "metadata": {},
   "source": [
    "## Correct the data types for the appropriate columns"
   ]
  },
  {
   "cell_type": "code",
   "execution_count": 2,
   "id": "e678e49e",
   "metadata": {},
   "outputs": [
    {
     "name": "stdout",
     "output_type": "stream",
     "text": [
      "<class 'pandas.core.frame.DataFrame'>\n",
      "Int64Index: 1436 entries, 0 to 1435\n",
      "Data columns (total 10 columns):\n",
      " #   Column     Non-Null Count  Dtype  \n",
      "---  ------     --------------  -----  \n",
      " 0   Price      1436 non-null   int64  \n",
      " 1   Age        1336 non-null   float64\n",
      " 2   KM         1421 non-null   float64\n",
      " 3   FuelType   1336 non-null   object \n",
      " 4   HP         1430 non-null   float64\n",
      " 5   MetColor   1286 non-null   object \n",
      " 6   Automatic  1436 non-null   object \n",
      " 7   CC         1436 non-null   int64  \n",
      " 8   Doors      1436 non-null   object \n",
      " 9   Weight     1436 non-null   int64  \n",
      "dtypes: float64(3), int64(3), object(4)\n",
      "memory usage: 123.4+ KB\n"
     ]
    }
   ],
   "source": [
    "import numpy as np\n",
    "cars1['MetColor'] = cars1['MetColor'].astype('object')\n",
    "cars1['Automatic'] = cars1['Automatic'].astype('object')\n",
    "cars1.info()"
   ]
  },
  {
   "cell_type": "code",
   "execution_count": 3,
   "id": "a2673c37",
   "metadata": {},
   "outputs": [
    {
     "name": "stdout",
     "output_type": "stream",
     "text": [
      "['2' '3' '4' '5' 'five' 'four' 'three']\n"
     ]
    }
   ],
   "source": [
    "print(np.unique(cars1['Doors']))"
   ]
  },
  {
   "cell_type": "code",
   "execution_count": 4,
   "id": "fbb12d4b",
   "metadata": {},
   "outputs": [
    {
     "name": "stdout",
     "output_type": "stream",
     "text": [
      "<class 'pandas.core.frame.DataFrame'>\n",
      "Int64Index: 1436 entries, 0 to 1435\n",
      "Data columns (total 10 columns):\n",
      " #   Column     Non-Null Count  Dtype  \n",
      "---  ------     --------------  -----  \n",
      " 0   Price      1436 non-null   int64  \n",
      " 1   Age        1336 non-null   float64\n",
      " 2   KM         1421 non-null   float64\n",
      " 3   FuelType   1336 non-null   object \n",
      " 4   HP         1430 non-null   float64\n",
      " 5   MetColor   1286 non-null   object \n",
      " 6   Automatic  1436 non-null   object \n",
      " 7   CC         1436 non-null   int64  \n",
      " 8   Doors      1436 non-null   int64  \n",
      " 9   Weight     1436 non-null   int64  \n",
      "dtypes: float64(3), int64(4), object(3)\n",
      "memory usage: 123.4+ KB\n"
     ]
    }
   ],
   "source": [
    "cars1['Doors'].replace(\"three\",3, inplace=True)\n",
    "cars1['Doors'].replace(\"four\",4, inplace=True)\n",
    "cars1['Doors'].replace(\"five\",5, inplace=True)\n",
    "cars1['Doors']= cars1['Doors'].astype('int64')\n",
    "cars1.info()"
   ]
  },
  {
   "cell_type": "markdown",
   "id": "1688dd15",
   "metadata": {},
   "source": [
    "# Detect the missing values"
   ]
  },
  {
   "cell_type": "code",
   "execution_count": 5,
   "id": "84e38484",
   "metadata": {},
   "outputs": [
    {
     "name": "stdout",
     "output_type": "stream",
     "text": [
      "Price          0\n",
      "Age          100\n",
      "KM            15\n",
      "FuelType     100\n",
      "HP             6\n",
      "MetColor     150\n",
      "Automatic      0\n",
      "CC             0\n",
      "Doors          0\n",
      "Weight         0\n",
      "dtype: int64\n"
     ]
    }
   ],
   "source": [
    "print(cars1.isnull().sum())"
   ]
  },
  {
   "cell_type": "code",
   "execution_count": 6,
   "id": "1b694442",
   "metadata": {},
   "outputs": [
    {
     "name": "stdout",
     "output_type": "stream",
     "text": [
      "Price        0\n",
      "Age          0\n",
      "KM           0\n",
      "FuelType     0\n",
      "HP           0\n",
      "MetColor     0\n",
      "Automatic    0\n",
      "CC           0\n",
      "Doors        0\n",
      "Weight       0\n",
      "dtype: int64\n",
      "<class 'pandas.core.frame.DataFrame'>\n",
      "Int64Index: 1096 entries, 0 to 1435\n",
      "Data columns (total 10 columns):\n",
      " #   Column     Non-Null Count  Dtype  \n",
      "---  ------     --------------  -----  \n",
      " 0   Price      1096 non-null   int64  \n",
      " 1   Age        1096 non-null   float64\n",
      " 2   KM         1096 non-null   float64\n",
      " 3   FuelType   1096 non-null   object \n",
      " 4   HP         1096 non-null   float64\n",
      " 5   MetColor   1096 non-null   object \n",
      " 6   Automatic  1096 non-null   object \n",
      " 7   CC         1096 non-null   int64  \n",
      " 8   Doors      1096 non-null   int64  \n",
      " 9   Weight     1096 non-null   int64  \n",
      "dtypes: float64(3), int64(4), object(3)\n",
      "memory usage: 94.2+ KB\n",
      "None\n"
     ]
    }
   ],
   "source": [
    "cars2 = cars1\n",
    "cars2 = cars2.dropna()\n",
    "print(cars2.isnull().sum())\n",
    "print(cars2.info())"
   ]
  },
  {
   "cell_type": "markdown",
   "id": "7fdc05b6",
   "metadata": {},
   "source": [
    "# Create a new column \"Price Class\" with three bins with the boundries [8450,11950]"
   ]
  },
  {
   "cell_type": "code",
   "execution_count": 7,
   "id": "6ea0ee49",
   "metadata": {},
   "outputs": [],
   "source": [
    "import warnings\n",
    "warnings.filterwarnings(\"ignore\")"
   ]
  },
  {
   "cell_type": "code",
   "execution_count": 8,
   "id": "6bcd9b14",
   "metadata": {},
   "outputs": [
    {
     "name": "stdout",
     "output_type": "stream",
     "text": [
      "Medium    751\n",
      "Low       369\n",
      "High      316\n",
      "Name: Price_Class, dtype: int64\n"
     ]
    }
   ],
   "source": [
    "cars1.insert(10,\"Price_Class\", \"0\")\n",
    "for i in range(0, len(cars1['Price'])):\n",
    "    if (cars1['Price'][i]<=8450):\n",
    "        cars1['Price_Class'][i]='Low'\n",
    "    elif (cars1[\"Price\"][i]>11950):\n",
    "        cars1['Price_Class'][i]='High'\n",
    "    else:\n",
    "        cars1['Price_Class'][i] =\"Medium\"\n",
    "print(cars1[\"Price_Class\"].value_counts())"
   ]
  },
  {
   "cell_type": "markdown",
   "id": "1e32c415",
   "metadata": {},
   "source": [
    "# Convert the age from months to years and put the data in a new column"
   ]
  },
  {
   "cell_type": "code",
   "execution_count": 9,
   "id": "e6c3d348",
   "metadata": {},
   "outputs": [
    {
     "name": "stdout",
     "output_type": "stream",
     "text": [
      "5.2    71\n",
      "5.4    62\n",
      "5.7    60\n",
      "6.2    59\n",
      "6.7    52\n",
      "       ..\n",
      "1.0     2\n",
      "0.1     2\n",
      "1.5     1\n",
      "0.5     1\n",
      "0.2     1\n",
      "Name: Age_Converted, Length: 66, dtype: int64\n"
     ]
    }
   ],
   "source": [
    "cars1.insert(11,\"Age_Converted\", \"0\")\n",
    "for i in range(0, len(cars1['Age'])):\n",
    "     cars1['Age_Converted'][i]= cars1['Age'][i]/12\n",
    "     cars1['Age_Converted'][i]= round(cars1['Age_Converted'][i],1)\n",
    "print(cars1[\"Age_Converted\"].value_counts())"
   ]
  },
  {
   "cell_type": "markdown",
   "id": "63f68493",
   "metadata": {},
   "source": [
    "# Convert the age from KM to KM/Month and put the data in a new column"
   ]
  },
  {
   "cell_type": "code",
   "execution_count": 10,
   "id": "42695f40",
   "metadata": {},
   "outputs": [
    {
     "data": {
      "text/html": [
       "<div>\n",
       "<style scoped>\n",
       "    .dataframe tbody tr th:only-of-type {\n",
       "        vertical-align: middle;\n",
       "    }\n",
       "\n",
       "    .dataframe tbody tr th {\n",
       "        vertical-align: top;\n",
       "    }\n",
       "\n",
       "    .dataframe thead th {\n",
       "        text-align: right;\n",
       "    }\n",
       "</style>\n",
       "<table border=\"1\" class=\"dataframe\">\n",
       "  <thead>\n",
       "    <tr style=\"text-align: right;\">\n",
       "      <th></th>\n",
       "      <th>Price</th>\n",
       "      <th>Age</th>\n",
       "      <th>KM</th>\n",
       "      <th>FuelType</th>\n",
       "      <th>HP</th>\n",
       "      <th>MetColor</th>\n",
       "      <th>Automatic</th>\n",
       "      <th>CC</th>\n",
       "      <th>Doors</th>\n",
       "      <th>Weight</th>\n",
       "      <th>Price_Class</th>\n",
       "      <th>Age_Converted</th>\n",
       "    </tr>\n",
       "  </thead>\n",
       "  <tbody>\n",
       "    <tr>\n",
       "      <th>0</th>\n",
       "      <td>13500</td>\n",
       "      <td>23.0</td>\n",
       "      <td>46986.0</td>\n",
       "      <td>Diesel</td>\n",
       "      <td>90.0</td>\n",
       "      <td>1.0</td>\n",
       "      <td>0</td>\n",
       "      <td>2000</td>\n",
       "      <td>3</td>\n",
       "      <td>1165</td>\n",
       "      <td>High</td>\n",
       "      <td>1.9</td>\n",
       "    </tr>\n",
       "    <tr>\n",
       "      <th>1</th>\n",
       "      <td>13750</td>\n",
       "      <td>23.0</td>\n",
       "      <td>72937.0</td>\n",
       "      <td>Diesel</td>\n",
       "      <td>90.0</td>\n",
       "      <td>1.0</td>\n",
       "      <td>0</td>\n",
       "      <td>2000</td>\n",
       "      <td>3</td>\n",
       "      <td>1165</td>\n",
       "      <td>High</td>\n",
       "      <td>1.9</td>\n",
       "    </tr>\n",
       "    <tr>\n",
       "      <th>2</th>\n",
       "      <td>13950</td>\n",
       "      <td>24.0</td>\n",
       "      <td>41711.0</td>\n",
       "      <td>Diesel</td>\n",
       "      <td>90.0</td>\n",
       "      <td>NaN</td>\n",
       "      <td>0</td>\n",
       "      <td>2000</td>\n",
       "      <td>3</td>\n",
       "      <td>1165</td>\n",
       "      <td>High</td>\n",
       "      <td>2.0</td>\n",
       "    </tr>\n",
       "    <tr>\n",
       "      <th>3</th>\n",
       "      <td>14950</td>\n",
       "      <td>26.0</td>\n",
       "      <td>48000.0</td>\n",
       "      <td>Diesel</td>\n",
       "      <td>90.0</td>\n",
       "      <td>0.0</td>\n",
       "      <td>0</td>\n",
       "      <td>2000</td>\n",
       "      <td>3</td>\n",
       "      <td>1165</td>\n",
       "      <td>High</td>\n",
       "      <td>2.2</td>\n",
       "    </tr>\n",
       "    <tr>\n",
       "      <th>4</th>\n",
       "      <td>13750</td>\n",
       "      <td>30.0</td>\n",
       "      <td>38500.0</td>\n",
       "      <td>Diesel</td>\n",
       "      <td>90.0</td>\n",
       "      <td>0.0</td>\n",
       "      <td>0</td>\n",
       "      <td>2000</td>\n",
       "      <td>3</td>\n",
       "      <td>1170</td>\n",
       "      <td>High</td>\n",
       "      <td>2.5</td>\n",
       "    </tr>\n",
       "    <tr>\n",
       "      <th>...</th>\n",
       "      <td>...</td>\n",
       "      <td>...</td>\n",
       "      <td>...</td>\n",
       "      <td>...</td>\n",
       "      <td>...</td>\n",
       "      <td>...</td>\n",
       "      <td>...</td>\n",
       "      <td>...</td>\n",
       "      <td>...</td>\n",
       "      <td>...</td>\n",
       "      <td>...</td>\n",
       "      <td>...</td>\n",
       "    </tr>\n",
       "    <tr>\n",
       "      <th>1431</th>\n",
       "      <td>7500</td>\n",
       "      <td>NaN</td>\n",
       "      <td>20544.0</td>\n",
       "      <td>Petrol</td>\n",
       "      <td>86.0</td>\n",
       "      <td>1.0</td>\n",
       "      <td>0</td>\n",
       "      <td>1300</td>\n",
       "      <td>3</td>\n",
       "      <td>1025</td>\n",
       "      <td>Low</td>\n",
       "      <td>NaN</td>\n",
       "    </tr>\n",
       "    <tr>\n",
       "      <th>1432</th>\n",
       "      <td>10845</td>\n",
       "      <td>72.0</td>\n",
       "      <td>NaN</td>\n",
       "      <td>Petrol</td>\n",
       "      <td>86.0</td>\n",
       "      <td>0.0</td>\n",
       "      <td>0</td>\n",
       "      <td>1300</td>\n",
       "      <td>3</td>\n",
       "      <td>1015</td>\n",
       "      <td>Medium</td>\n",
       "      <td>6.0</td>\n",
       "    </tr>\n",
       "    <tr>\n",
       "      <th>1433</th>\n",
       "      <td>8500</td>\n",
       "      <td>NaN</td>\n",
       "      <td>17016.0</td>\n",
       "      <td>Petrol</td>\n",
       "      <td>86.0</td>\n",
       "      <td>0.0</td>\n",
       "      <td>0</td>\n",
       "      <td>1300</td>\n",
       "      <td>3</td>\n",
       "      <td>1015</td>\n",
       "      <td>Medium</td>\n",
       "      <td>NaN</td>\n",
       "    </tr>\n",
       "    <tr>\n",
       "      <th>1434</th>\n",
       "      <td>7250</td>\n",
       "      <td>70.0</td>\n",
       "      <td>NaN</td>\n",
       "      <td>NaN</td>\n",
       "      <td>86.0</td>\n",
       "      <td>1.0</td>\n",
       "      <td>0</td>\n",
       "      <td>1300</td>\n",
       "      <td>3</td>\n",
       "      <td>1015</td>\n",
       "      <td>Low</td>\n",
       "      <td>5.8</td>\n",
       "    </tr>\n",
       "    <tr>\n",
       "      <th>1435</th>\n",
       "      <td>6950</td>\n",
       "      <td>76.0</td>\n",
       "      <td>1.0</td>\n",
       "      <td>Petrol</td>\n",
       "      <td>110.0</td>\n",
       "      <td>0.0</td>\n",
       "      <td>0</td>\n",
       "      <td>1600</td>\n",
       "      <td>5</td>\n",
       "      <td>1114</td>\n",
       "      <td>Low</td>\n",
       "      <td>6.3</td>\n",
       "    </tr>\n",
       "  </tbody>\n",
       "</table>\n",
       "<p>1436 rows × 12 columns</p>\n",
       "</div>"
      ],
      "text/plain": [
       "      Price   Age       KM FuelType     HP MetColor Automatic    CC  Doors  \\\n",
       "0     13500  23.0  46986.0   Diesel   90.0      1.0         0  2000      3   \n",
       "1     13750  23.0  72937.0   Diesel   90.0      1.0         0  2000      3   \n",
       "2     13950  24.0  41711.0   Diesel   90.0      NaN         0  2000      3   \n",
       "3     14950  26.0  48000.0   Diesel   90.0      0.0         0  2000      3   \n",
       "4     13750  30.0  38500.0   Diesel   90.0      0.0         0  2000      3   \n",
       "...     ...   ...      ...      ...    ...      ...       ...   ...    ...   \n",
       "1431   7500   NaN  20544.0   Petrol   86.0      1.0         0  1300      3   \n",
       "1432  10845  72.0      NaN   Petrol   86.0      0.0         0  1300      3   \n",
       "1433   8500   NaN  17016.0   Petrol   86.0      0.0         0  1300      3   \n",
       "1434   7250  70.0      NaN      NaN   86.0      1.0         0  1300      3   \n",
       "1435   6950  76.0      1.0   Petrol  110.0      0.0         0  1600      5   \n",
       "\n",
       "      Weight Price_Class Age_Converted  \n",
       "0       1165        High           1.9  \n",
       "1       1165        High           1.9  \n",
       "2       1165        High           2.0  \n",
       "3       1165        High           2.2  \n",
       "4       1170        High           2.5  \n",
       "...      ...         ...           ...  \n",
       "1431    1025         Low           NaN  \n",
       "1432    1015      Medium           6.0  \n",
       "1433    1015      Medium           NaN  \n",
       "1434    1015         Low           5.8  \n",
       "1435    1114         Low           6.3  \n",
       "\n",
       "[1436 rows x 12 columns]"
      ]
     },
     "execution_count": 10,
     "metadata": {},
     "output_type": "execute_result"
    }
   ],
   "source": [
    "cars1"
   ]
  },
  {
   "cell_type": "code",
   "execution_count": 11,
   "id": "0a99571a",
   "metadata": {},
   "outputs": [
    {
     "name": "stdout",
     "output_type": "stream",
     "text": [
      "1000.0    6\n",
      "1375.0    3\n",
      "923.1     3\n",
      "553.8     3\n",
      "904.8     3\n",
      "         ..\n",
      "1185.2    1\n",
      "1337.4    1\n",
      "1160.7    1\n",
      "1253.3    1\n",
      "287.5     1\n",
      "Name: KM/Month, Length: 1249, dtype: int64\n"
     ]
    }
   ],
   "source": [
    "cars1.insert(12,\"KM/Month\", \"0\")\n",
    "for i in range(0, len(cars1['KM'])):\n",
    "     cars1['KM/Month'][i]= cars1['KM'][i]/cars1['Age'][i]\n",
    "     cars1['KM/Month'][i]= round(cars1['KM/Month'][i],1)\n",
    "print(cars1[\"KM/Month\"].value_counts())"
   ]
  },
  {
   "cell_type": "code",
   "execution_count": 12,
   "id": "499abda8",
   "metadata": {},
   "outputs": [
    {
     "data": {
      "text/html": [
       "<div>\n",
       "<style scoped>\n",
       "    .dataframe tbody tr th:only-of-type {\n",
       "        vertical-align: middle;\n",
       "    }\n",
       "\n",
       "    .dataframe tbody tr th {\n",
       "        vertical-align: top;\n",
       "    }\n",
       "\n",
       "    .dataframe thead th {\n",
       "        text-align: right;\n",
       "    }\n",
       "</style>\n",
       "<table border=\"1\" class=\"dataframe\">\n",
       "  <thead>\n",
       "    <tr style=\"text-align: right;\">\n",
       "      <th></th>\n",
       "      <th>Price</th>\n",
       "      <th>Age</th>\n",
       "      <th>KM</th>\n",
       "      <th>FuelType</th>\n",
       "      <th>HP</th>\n",
       "      <th>MetColor</th>\n",
       "      <th>Automatic</th>\n",
       "      <th>CC</th>\n",
       "      <th>Doors</th>\n",
       "      <th>Weight</th>\n",
       "      <th>Price_Class</th>\n",
       "      <th>Age_Converted</th>\n",
       "      <th>KM/Month</th>\n",
       "    </tr>\n",
       "  </thead>\n",
       "  <tbody>\n",
       "    <tr>\n",
       "      <th>0</th>\n",
       "      <td>13500</td>\n",
       "      <td>23.0</td>\n",
       "      <td>46986.0</td>\n",
       "      <td>Diesel</td>\n",
       "      <td>90.0</td>\n",
       "      <td>1.0</td>\n",
       "      <td>0</td>\n",
       "      <td>2000</td>\n",
       "      <td>3</td>\n",
       "      <td>1165</td>\n",
       "      <td>High</td>\n",
       "      <td>1.9</td>\n",
       "      <td>2042.9</td>\n",
       "    </tr>\n",
       "    <tr>\n",
       "      <th>1</th>\n",
       "      <td>13750</td>\n",
       "      <td>23.0</td>\n",
       "      <td>72937.0</td>\n",
       "      <td>Diesel</td>\n",
       "      <td>90.0</td>\n",
       "      <td>1.0</td>\n",
       "      <td>0</td>\n",
       "      <td>2000</td>\n",
       "      <td>3</td>\n",
       "      <td>1165</td>\n",
       "      <td>High</td>\n",
       "      <td>1.9</td>\n",
       "      <td>3171.2</td>\n",
       "    </tr>\n",
       "    <tr>\n",
       "      <th>2</th>\n",
       "      <td>13950</td>\n",
       "      <td>24.0</td>\n",
       "      <td>41711.0</td>\n",
       "      <td>Diesel</td>\n",
       "      <td>90.0</td>\n",
       "      <td>NaN</td>\n",
       "      <td>0</td>\n",
       "      <td>2000</td>\n",
       "      <td>3</td>\n",
       "      <td>1165</td>\n",
       "      <td>High</td>\n",
       "      <td>2.0</td>\n",
       "      <td>1738.0</td>\n",
       "    </tr>\n",
       "    <tr>\n",
       "      <th>3</th>\n",
       "      <td>14950</td>\n",
       "      <td>26.0</td>\n",
       "      <td>48000.0</td>\n",
       "      <td>Diesel</td>\n",
       "      <td>90.0</td>\n",
       "      <td>0.0</td>\n",
       "      <td>0</td>\n",
       "      <td>2000</td>\n",
       "      <td>3</td>\n",
       "      <td>1165</td>\n",
       "      <td>High</td>\n",
       "      <td>2.2</td>\n",
       "      <td>1846.2</td>\n",
       "    </tr>\n",
       "    <tr>\n",
       "      <th>4</th>\n",
       "      <td>13750</td>\n",
       "      <td>30.0</td>\n",
       "      <td>38500.0</td>\n",
       "      <td>Diesel</td>\n",
       "      <td>90.0</td>\n",
       "      <td>0.0</td>\n",
       "      <td>0</td>\n",
       "      <td>2000</td>\n",
       "      <td>3</td>\n",
       "      <td>1170</td>\n",
       "      <td>High</td>\n",
       "      <td>2.5</td>\n",
       "      <td>1283.3</td>\n",
       "    </tr>\n",
       "    <tr>\n",
       "      <th>...</th>\n",
       "      <td>...</td>\n",
       "      <td>...</td>\n",
       "      <td>...</td>\n",
       "      <td>...</td>\n",
       "      <td>...</td>\n",
       "      <td>...</td>\n",
       "      <td>...</td>\n",
       "      <td>...</td>\n",
       "      <td>...</td>\n",
       "      <td>...</td>\n",
       "      <td>...</td>\n",
       "      <td>...</td>\n",
       "      <td>...</td>\n",
       "    </tr>\n",
       "    <tr>\n",
       "      <th>1431</th>\n",
       "      <td>7500</td>\n",
       "      <td>NaN</td>\n",
       "      <td>20544.0</td>\n",
       "      <td>Petrol</td>\n",
       "      <td>86.0</td>\n",
       "      <td>1.0</td>\n",
       "      <td>0</td>\n",
       "      <td>1300</td>\n",
       "      <td>3</td>\n",
       "      <td>1025</td>\n",
       "      <td>Low</td>\n",
       "      <td>NaN</td>\n",
       "      <td>NaN</td>\n",
       "    </tr>\n",
       "    <tr>\n",
       "      <th>1432</th>\n",
       "      <td>10845</td>\n",
       "      <td>72.0</td>\n",
       "      <td>NaN</td>\n",
       "      <td>Petrol</td>\n",
       "      <td>86.0</td>\n",
       "      <td>0.0</td>\n",
       "      <td>0</td>\n",
       "      <td>1300</td>\n",
       "      <td>3</td>\n",
       "      <td>1015</td>\n",
       "      <td>Medium</td>\n",
       "      <td>6.0</td>\n",
       "      <td>NaN</td>\n",
       "    </tr>\n",
       "    <tr>\n",
       "      <th>1433</th>\n",
       "      <td>8500</td>\n",
       "      <td>NaN</td>\n",
       "      <td>17016.0</td>\n",
       "      <td>Petrol</td>\n",
       "      <td>86.0</td>\n",
       "      <td>0.0</td>\n",
       "      <td>0</td>\n",
       "      <td>1300</td>\n",
       "      <td>3</td>\n",
       "      <td>1015</td>\n",
       "      <td>Medium</td>\n",
       "      <td>NaN</td>\n",
       "      <td>NaN</td>\n",
       "    </tr>\n",
       "    <tr>\n",
       "      <th>1434</th>\n",
       "      <td>7250</td>\n",
       "      <td>70.0</td>\n",
       "      <td>NaN</td>\n",
       "      <td>NaN</td>\n",
       "      <td>86.0</td>\n",
       "      <td>1.0</td>\n",
       "      <td>0</td>\n",
       "      <td>1300</td>\n",
       "      <td>3</td>\n",
       "      <td>1015</td>\n",
       "      <td>Low</td>\n",
       "      <td>5.8</td>\n",
       "      <td>NaN</td>\n",
       "    </tr>\n",
       "    <tr>\n",
       "      <th>1435</th>\n",
       "      <td>6950</td>\n",
       "      <td>76.0</td>\n",
       "      <td>1.0</td>\n",
       "      <td>Petrol</td>\n",
       "      <td>110.0</td>\n",
       "      <td>0.0</td>\n",
       "      <td>0</td>\n",
       "      <td>1600</td>\n",
       "      <td>5</td>\n",
       "      <td>1114</td>\n",
       "      <td>Low</td>\n",
       "      <td>6.3</td>\n",
       "      <td>0.0</td>\n",
       "    </tr>\n",
       "  </tbody>\n",
       "</table>\n",
       "<p>1436 rows × 13 columns</p>\n",
       "</div>"
      ],
      "text/plain": [
       "      Price   Age       KM FuelType     HP MetColor Automatic    CC  Doors  \\\n",
       "0     13500  23.0  46986.0   Diesel   90.0      1.0         0  2000      3   \n",
       "1     13750  23.0  72937.0   Diesel   90.0      1.0         0  2000      3   \n",
       "2     13950  24.0  41711.0   Diesel   90.0      NaN         0  2000      3   \n",
       "3     14950  26.0  48000.0   Diesel   90.0      0.0         0  2000      3   \n",
       "4     13750  30.0  38500.0   Diesel   90.0      0.0         0  2000      3   \n",
       "...     ...   ...      ...      ...    ...      ...       ...   ...    ...   \n",
       "1431   7500   NaN  20544.0   Petrol   86.0      1.0         0  1300      3   \n",
       "1432  10845  72.0      NaN   Petrol   86.0      0.0         0  1300      3   \n",
       "1433   8500   NaN  17016.0   Petrol   86.0      0.0         0  1300      3   \n",
       "1434   7250  70.0      NaN      NaN   86.0      1.0         0  1300      3   \n",
       "1435   6950  76.0      1.0   Petrol  110.0      0.0         0  1600      5   \n",
       "\n",
       "      Weight Price_Class Age_Converted KM/Month  \n",
       "0       1165        High           1.9   2042.9  \n",
       "1       1165        High           1.9   3171.2  \n",
       "2       1165        High           2.0   1738.0  \n",
       "3       1165        High           2.2   1846.2  \n",
       "4       1170        High           2.5   1283.3  \n",
       "...      ...         ...           ...      ...  \n",
       "1431    1025         Low           NaN      NaN  \n",
       "1432    1015      Medium           6.0      NaN  \n",
       "1433    1015      Medium           NaN      NaN  \n",
       "1434    1015         Low           5.8      NaN  \n",
       "1435    1114         Low           6.3      0.0  \n",
       "\n",
       "[1436 rows x 13 columns]"
      ]
     },
     "execution_count": 12,
     "metadata": {},
     "output_type": "execute_result"
    }
   ],
   "source": [
    "cars1"
   ]
  },
  {
   "cell_type": "code",
   "execution_count": 13,
   "id": "55072825",
   "metadata": {},
   "outputs": [
    {
     "data": {
      "text/plain": [
       "1000.0    6\n",
       "1375.0    3\n",
       "923.1     3\n",
       "553.8     3\n",
       "904.8     3\n",
       "         ..\n",
       "1185.2    1\n",
       "1337.4    1\n",
       "1160.7    1\n",
       "1253.3    1\n",
       "287.5     1\n",
       "Name: KM/Month, Length: 1249, dtype: int64"
      ]
     },
     "execution_count": 13,
     "metadata": {},
     "output_type": "execute_result"
    }
   ],
   "source": [
    "cars1[\"KM/Month\"].value_counts()"
   ]
  },
  {
   "cell_type": "markdown",
   "id": "51e1cebb",
   "metadata": {},
   "source": [
    "# Find which fuel type car is more"
   ]
  },
  {
   "cell_type": "code",
   "execution_count": 14,
   "id": "325f493b",
   "metadata": {},
   "outputs": [
    {
     "name": "stdout",
     "output_type": "stream",
     "text": [
      "col_0     count\n",
      "FuelType       \n",
      "CNG          15\n",
      "Diesel      144\n",
      "Petrol     1177\n"
     ]
    }
   ],
   "source": [
    "print(pd.crosstab(index=cars1['FuelType'],columns='count',dropna=True))"
   ]
  },
  {
   "cell_type": "markdown",
   "id": "e1fbf201",
   "metadata": {},
   "source": [
    "# Find the freq dist of gearbox types with respect to diff fuel types of the cars.\n",
    "\n",
    "# How many automatic gear cars are using Diesel?"
   ]
  },
  {
   "cell_type": "code",
   "execution_count": 15,
   "id": "1cddfb73",
   "metadata": {},
   "outputs": [
    {
     "name": "stdout",
     "output_type": "stream",
     "text": [
      "FuelType   CNG  Diesel  Petrol\n",
      "Automatic                     \n",
      "0           15     144    1104\n",
      "1            0       0      73\n"
     ]
    }
   ],
   "source": [
    "print(pd.crosstab(index=cars1['Automatic'], columns=cars1['FuelType'], dropna = True))"
   ]
  },
  {
   "cell_type": "code",
   "execution_count": 16,
   "id": "ad51b5ec",
   "metadata": {},
   "outputs": [
    {
     "name": "stdout",
     "output_type": "stream",
     "text": [
      "Automatic     0   1\n",
      "FuelType           \n",
      "CNG          15   0\n",
      "Diesel      144   0\n",
      "Petrol     1104  73\n"
     ]
    }
   ],
   "source": [
    "print(pd.crosstab(index=cars1['FuelType'], columns=cars1['Automatic'], dropna = True))"
   ]
  },
  {
   "cell_type": "markdown",
   "id": "100bb173",
   "metadata": {},
   "source": [
    "# What is the prob a car is of manual gear and using petrol?"
   ]
  },
  {
   "cell_type": "code",
   "execution_count": 17,
   "id": "7d8e660d",
   "metadata": {},
   "outputs": [
    {
     "name": "stdout",
     "output_type": "stream",
     "text": [
      "FuelType        CNG    Diesel    Petrol\n",
      "Automatic                              \n",
      "0          0.011228  0.107784  0.826347\n",
      "1          0.000000  0.000000  0.054641\n"
     ]
    }
   ],
   "source": [
    "print(pd.crosstab(index=cars1['Automatic'],columns=cars1['FuelType'], normalize = True, dropna= True))"
   ]
  },
  {
   "cell_type": "code",
   "execution_count": 18,
   "id": "9483eaae",
   "metadata": {},
   "outputs": [
    {
     "data": {
      "text/html": [
       "<div>\n",
       "<style scoped>\n",
       "    .dataframe tbody tr th:only-of-type {\n",
       "        vertical-align: middle;\n",
       "    }\n",
       "\n",
       "    .dataframe tbody tr th {\n",
       "        vertical-align: top;\n",
       "    }\n",
       "\n",
       "    .dataframe thead th {\n",
       "        text-align: right;\n",
       "    }\n",
       "</style>\n",
       "<table border=\"1\" class=\"dataframe\">\n",
       "  <thead>\n",
       "    <tr style=\"text-align: right;\">\n",
       "      <th></th>\n",
       "      <th>Price</th>\n",
       "      <th>Age</th>\n",
       "      <th>KM</th>\n",
       "      <th>FuelType</th>\n",
       "      <th>HP</th>\n",
       "      <th>MetColor</th>\n",
       "      <th>Automatic</th>\n",
       "      <th>CC</th>\n",
       "      <th>Doors</th>\n",
       "      <th>Weight</th>\n",
       "      <th>Price_Class</th>\n",
       "      <th>Age_Converted</th>\n",
       "      <th>KM/Month</th>\n",
       "    </tr>\n",
       "  </thead>\n",
       "  <tbody>\n",
       "    <tr>\n",
       "      <th>0</th>\n",
       "      <td>13500</td>\n",
       "      <td>23.0</td>\n",
       "      <td>46986.0</td>\n",
       "      <td>Diesel</td>\n",
       "      <td>90.0</td>\n",
       "      <td>1.0</td>\n",
       "      <td>0</td>\n",
       "      <td>2000</td>\n",
       "      <td>3</td>\n",
       "      <td>1165</td>\n",
       "      <td>High</td>\n",
       "      <td>1.9</td>\n",
       "      <td>2042.9</td>\n",
       "    </tr>\n",
       "    <tr>\n",
       "      <th>1</th>\n",
       "      <td>13750</td>\n",
       "      <td>23.0</td>\n",
       "      <td>72937.0</td>\n",
       "      <td>Diesel</td>\n",
       "      <td>90.0</td>\n",
       "      <td>1.0</td>\n",
       "      <td>0</td>\n",
       "      <td>2000</td>\n",
       "      <td>3</td>\n",
       "      <td>1165</td>\n",
       "      <td>High</td>\n",
       "      <td>1.9</td>\n",
       "      <td>3171.2</td>\n",
       "    </tr>\n",
       "    <tr>\n",
       "      <th>2</th>\n",
       "      <td>13950</td>\n",
       "      <td>24.0</td>\n",
       "      <td>41711.0</td>\n",
       "      <td>Diesel</td>\n",
       "      <td>90.0</td>\n",
       "      <td>NaN</td>\n",
       "      <td>0</td>\n",
       "      <td>2000</td>\n",
       "      <td>3</td>\n",
       "      <td>1165</td>\n",
       "      <td>High</td>\n",
       "      <td>2.0</td>\n",
       "      <td>1738.0</td>\n",
       "    </tr>\n",
       "    <tr>\n",
       "      <th>3</th>\n",
       "      <td>14950</td>\n",
       "      <td>26.0</td>\n",
       "      <td>48000.0</td>\n",
       "      <td>Diesel</td>\n",
       "      <td>90.0</td>\n",
       "      <td>0.0</td>\n",
       "      <td>0</td>\n",
       "      <td>2000</td>\n",
       "      <td>3</td>\n",
       "      <td>1165</td>\n",
       "      <td>High</td>\n",
       "      <td>2.2</td>\n",
       "      <td>1846.2</td>\n",
       "    </tr>\n",
       "    <tr>\n",
       "      <th>4</th>\n",
       "      <td>13750</td>\n",
       "      <td>30.0</td>\n",
       "      <td>38500.0</td>\n",
       "      <td>Diesel</td>\n",
       "      <td>90.0</td>\n",
       "      <td>0.0</td>\n",
       "      <td>0</td>\n",
       "      <td>2000</td>\n",
       "      <td>3</td>\n",
       "      <td>1170</td>\n",
       "      <td>High</td>\n",
       "      <td>2.5</td>\n",
       "      <td>1283.3</td>\n",
       "    </tr>\n",
       "  </tbody>\n",
       "</table>\n",
       "</div>"
      ],
      "text/plain": [
       "   Price   Age       KM FuelType    HP MetColor Automatic    CC  Doors  \\\n",
       "0  13500  23.0  46986.0   Diesel  90.0      1.0         0  2000      3   \n",
       "1  13750  23.0  72937.0   Diesel  90.0      1.0         0  2000      3   \n",
       "2  13950  24.0  41711.0   Diesel  90.0      NaN         0  2000      3   \n",
       "3  14950  26.0  48000.0   Diesel  90.0      0.0         0  2000      3   \n",
       "4  13750  30.0  38500.0   Diesel  90.0      0.0         0  2000      3   \n",
       "\n",
       "   Weight Price_Class Age_Converted KM/Month  \n",
       "0    1165        High           1.9   2042.9  \n",
       "1    1165        High           1.9   3171.2  \n",
       "2    1165        High           2.0   1738.0  \n",
       "3    1165        High           2.2   1846.2  \n",
       "4    1170        High           2.5   1283.3  "
      ]
     },
     "execution_count": 18,
     "metadata": {},
     "output_type": "execute_result"
    }
   ],
   "source": [
    "cars1.head(5)"
   ]
  },
  {
   "cell_type": "code",
   "execution_count": 19,
   "id": "08240552",
   "metadata": {},
   "outputs": [
    {
     "name": "stdout",
     "output_type": "stream",
     "text": [
      "<class 'pandas.core.frame.DataFrame'>\n",
      "Int64Index: 1436 entries, 0 to 1435\n",
      "Data columns (total 13 columns):\n",
      " #   Column         Non-Null Count  Dtype  \n",
      "---  ------         --------------  -----  \n",
      " 0   Price          1436 non-null   int64  \n",
      " 1   Age            1336 non-null   float64\n",
      " 2   KM             1421 non-null   float64\n",
      " 3   FuelType       1336 non-null   object \n",
      " 4   HP             1430 non-null   float64\n",
      " 5   MetColor       1286 non-null   object \n",
      " 6   Automatic      1436 non-null   object \n",
      " 7   CC             1436 non-null   int64  \n",
      " 8   Doors          1436 non-null   int64  \n",
      " 9   Weight         1436 non-null   int64  \n",
      " 10  Price_Class    1436 non-null   object \n",
      " 11  Age_Converted  1336 non-null   object \n",
      " 12  KM/Month       1321 non-null   object \n",
      "dtypes: float64(3), int64(4), object(6)\n",
      "memory usage: 189.4+ KB\n"
     ]
    }
   ],
   "source": [
    "cars1.info()"
   ]
  },
  {
   "cell_type": "code",
   "execution_count": 20,
   "id": "047266cc",
   "metadata": {},
   "outputs": [
    {
     "data": {
      "image/png": "[encoded data removed]",
      "text/plain": [
       "<Figure size 432x288 with 1 Axes>"
      ]
     },
     "metadata": {
      "needs_background": "light"
     },
     "output_type": "display_data"
    }
   ],
   "source": [
    "import matplotlib.pyplot as plt\n",
    "plt.scatter(cars1['Age'], cars1['Price'])\n",
    "plt.title('Price vs Age')\n",
    "plt.xlabel('Age in Months')\n",
    "plt.ylabel('Price in Euros')\n",
    "plt.show()"
   ]
  },
  {
   "cell_type": "code",
   "execution_count": 24,
   "id": "6a3dea52",
   "metadata": {},
   "outputs": [],
   "source": [
    "import seaborn as sns"
   ]
  },
  {
   "cell_type": "code",
   "execution_count": 25,
   "id": "3bff2882",
   "metadata": {},
   "outputs": [
    {
     "data": {
      "text/plain": [
       "<AxesSubplot:xlabel='Price_Class', ylabel='count'>"
      ]
     },
     "execution_count": 25,
     "metadata": {},
     "output_type": "execute_result"
    },
    {
     "data": {
      "image/png": "[encoded data removed]",
      "text/plain": [
       "<Figure size 432x288 with 1 Axes>"
      ]
     },
     "metadata": {
      "needs_background": "light"
     },
     "output_type": "display_data"
    }
   ],
   "source": [
    "sns.countplot(cars1['Price_Class'])"
   ]
  },
  {
   "cell_type": "code",
   "execution_count": 26,
   "id": "2023eb10",
   "metadata": {},
   "outputs": [
    {
     "data": {
      "text/plain": [
       "<AxesSubplot:xlabel='FuelType', ylabel='count'>"
      ]
     },
     "execution_count": 26,
     "metadata": {},
     "output_type": "execute_result"
    },
    {
     "data": {
      "image/png": "[encoded data removed]",
      "text/plain": [
       "<Figure size 432x288 with 1 Axes>"
      ]
     },
     "metadata": {
      "needs_background": "light"
     },
     "output_type": "display_data"
    }
   ],
   "source": [
    "sns.countplot(cars1['FuelType'])"
   ]
  },
  {
   "cell_type": "code",
   "execution_count": 27,
   "id": "2c5def1c",
   "metadata": {},
   "outputs": [
    {
     "data": {
      "image/png": "[encoded data removed]",
      "text/plain": [
       "<Figure size 432x288 with 1 Axes>"
      ]
     },
     "metadata": {
      "needs_background": "light"
     },
     "output_type": "display_data"
    }
   ],
   "source": [
    "plt.hist(cars1['KM'],edgecolor='white', bins = 5)\n",
    "plt.xlabel('KM')\n",
    "plt.title('Freq vs KM')\n",
    "plt.ylabel('Freq')\n",
    "plt.show()"
   ]
  },
  {
   "cell_type": "code",
   "execution_count": 28,
   "id": "79c3ea38",
   "metadata": {},
   "outputs": [
    {
     "data": {
      "text/html": [
       "<div>\n",
       "<style scoped>\n",
       "    .dataframe tbody tr th:only-of-type {\n",
       "        vertical-align: middle;\n",
       "    }\n",
       "\n",
       "    .dataframe tbody tr th {\n",
       "        vertical-align: top;\n",
       "    }\n",
       "\n",
       "    .dataframe thead th {\n",
       "        text-align: right;\n",
       "    }\n",
       "</style>\n",
       "<table border=\"1\" class=\"dataframe\">\n",
       "  <thead>\n",
       "    <tr style=\"text-align: right;\">\n",
       "      <th></th>\n",
       "      <th>Price</th>\n",
       "      <th>Age</th>\n",
       "      <th>KM</th>\n",
       "      <th>HP</th>\n",
       "      <th>CC</th>\n",
       "      <th>Doors</th>\n",
       "      <th>Weight</th>\n",
       "    </tr>\n",
       "  </thead>\n",
       "  <tbody>\n",
       "    <tr>\n",
       "      <th>Price</th>\n",
       "      <td>1.000000</td>\n",
       "      <td>-0.878407</td>\n",
       "      <td>-0.574720</td>\n",
       "      <td>0.309902</td>\n",
       "      <td>0.165067</td>\n",
       "      <td>0.185326</td>\n",
       "      <td>0.581198</td>\n",
       "    </tr>\n",
       "    <tr>\n",
       "      <th>Age</th>\n",
       "      <td>-0.878407</td>\n",
       "      <td>1.000000</td>\n",
       "      <td>0.512735</td>\n",
       "      <td>-0.157904</td>\n",
       "      <td>-0.120706</td>\n",
       "      <td>-0.157027</td>\n",
       "      <td>-0.464299</td>\n",
       "    </tr>\n",
       "    <tr>\n",
       "      <th>KM</th>\n",
       "      <td>-0.574720</td>\n",
       "      <td>0.512735</td>\n",
       "      <td>1.000000</td>\n",
       "      <td>-0.335285</td>\n",
       "      <td>0.299993</td>\n",
       "      <td>-0.036191</td>\n",
       "      <td>-0.026271</td>\n",
       "    </tr>\n",
       "    <tr>\n",
       "      <th>HP</th>\n",
       "      <td>0.309902</td>\n",
       "      <td>-0.157904</td>\n",
       "      <td>-0.335285</td>\n",
       "      <td>1.000000</td>\n",
       "      <td>0.053758</td>\n",
       "      <td>0.097162</td>\n",
       "      <td>0.086737</td>\n",
       "    </tr>\n",
       "    <tr>\n",
       "      <th>CC</th>\n",
       "      <td>0.165067</td>\n",
       "      <td>-0.120706</td>\n",
       "      <td>0.299993</td>\n",
       "      <td>0.053758</td>\n",
       "      <td>1.000000</td>\n",
       "      <td>0.126768</td>\n",
       "      <td>0.651450</td>\n",
       "    </tr>\n",
       "    <tr>\n",
       "      <th>Doors</th>\n",
       "      <td>0.185326</td>\n",
       "      <td>-0.157027</td>\n",
       "      <td>-0.036191</td>\n",
       "      <td>0.097162</td>\n",
       "      <td>0.126768</td>\n",
       "      <td>1.000000</td>\n",
       "      <td>0.302618</td>\n",
       "    </tr>\n",
       "    <tr>\n",
       "      <th>Weight</th>\n",
       "      <td>0.581198</td>\n",
       "      <td>-0.464299</td>\n",
       "      <td>-0.026271</td>\n",
       "      <td>0.086737</td>\n",
       "      <td>0.651450</td>\n",
       "      <td>0.302618</td>\n",
       "      <td>1.000000</td>\n",
       "    </tr>\n",
       "  </tbody>\n",
       "</table>\n",
       "</div>"
      ],
      "text/plain": [
       "           Price       Age        KM        HP        CC     Doors    Weight\n",
       "Price   1.000000 -0.878407 -0.574720  0.309902  0.165067  0.185326  0.581198\n",
       "Age    -0.878407  1.000000  0.512735 -0.157904 -0.120706 -0.157027 -0.464299\n",
       "KM     -0.574720  0.512735  1.000000 -0.335285  0.299993 -0.036191 -0.026271\n",
       "HP      0.309902 -0.157904 -0.335285  1.000000  0.053758  0.097162  0.086737\n",
       "CC      0.165067 -0.120706  0.299993  0.053758  1.000000  0.126768  0.651450\n",
       "Doors   0.185326 -0.157027 -0.036191  0.097162  0.126768  1.000000  0.302618\n",
       "Weight  0.581198 -0.464299 -0.026271  0.086737  0.651450  0.302618  1.000000"
      ]
     },
     "execution_count": 28,
     "metadata": {},
     "output_type": "execute_result"
    }
   ],
   "source": [
    "cars1.corr()"
   ]
  },
  {
   "cell_type": "code",
   "execution_count": 29,
   "id": "400e09f2",
   "metadata": {},
   "outputs": [
    {
     "data": {
      "image/png": "[encoded data removed]",
      "text/plain": [
       "<Figure size 432x432 with 1 Axes>"
      ]
     },
     "metadata": {},
     "output_type": "display_data"
    }
   ],
   "source": [
    "import seaborn as sns\n",
    "plt.figure(figsize=(6,6))\n",
    "plt.title(\"Proportion of Toyota Cars based on Fuel Types\")\n",
    "cars1['FuelType'].value_counts().plot(kind='pie')\n",
    "plt.ylabel(\" \")\n",
    "plt.show(\" \")"
   ]
  },
  {
   "cell_type": "code",
   "execution_count": 30,
   "id": "6fd4015d",
   "metadata": {},
   "outputs": [
    {
     "data": {
      "image/png": "[encoded data removed]",
      "text/plain": [
       "<Figure size 432x432 with 1 Axes>"
      ]
     },
     "metadata": {},
     "output_type": "display_data"
    }
   ],
   "source": [
    "import seaborn as sns\n",
    "plt.figure(figsize=(6,6))\n",
    "plt.title(\"Proportion of Toyota Cars based on Fuel Types\")\n",
    "cars1['Price_Class'].value_counts().plot(kind='pie')\n",
    "plt.ylabel(\" \")\n",
    "plt.show(\" \")"
   ]
  },
  {
   "cell_type": "code",
   "execution_count": 32,
   "id": "832d2612",
   "metadata": {},
   "outputs": [],
   "source": [
    "cars1['Age_Converted']= cars1['Age_Converted'].astype('float64')\n",
    "cars1['KM/Month']= cars1['KM/Month'].astype('float64')"
   ]
  },
  {
   "cell_type": "code",
   "execution_count": 33,
   "id": "caa7e886",
   "metadata": {},
   "outputs": [
    {
     "name": "stdout",
     "output_type": "stream",
     "text": [
      "<class 'pandas.core.frame.DataFrame'>\n",
      "Int64Index: 1436 entries, 0 to 1435\n",
      "Data columns (total 13 columns):\n",
      " #   Column         Non-Null Count  Dtype  \n",
      "---  ------         --------------  -----  \n",
      " 0   Price          1436 non-null   int64  \n",
      " 1   Age            1336 non-null   float64\n",
      " 2   KM             1421 non-null   float64\n",
      " 3   FuelType       1336 non-null   object \n",
      " 4   HP             1430 non-null   float64\n",
      " 5   MetColor       1286 non-null   object \n",
      " 6   Automatic      1436 non-null   object \n",
      " 7   CC             1436 non-null   int64  \n",
      " 8   Doors          1436 non-null   int64  \n",
      " 9   Weight         1436 non-null   int64  \n",
      " 10  Price_Class    1436 non-null   object \n",
      " 11  Age_Converted  1336 non-null   float64\n",
      " 12  KM/Month       1321 non-null   float64\n",
      "dtypes: float64(5), int64(4), object(4)\n",
      "memory usage: 189.4+ KB\n"
     ]
    }
   ],
   "source": [
    "cars1.info()"
   ]
  },
  {
   "cell_type": "code",
   "execution_count": 34,
   "id": "539a4902",
   "metadata": {},
   "outputs": [
    {
     "data": {
      "text/html": [
       "<div>\n",
       "<style scoped>\n",
       "    .dataframe tbody tr th:only-of-type {\n",
       "        vertical-align: middle;\n",
       "    }\n",
       "\n",
       "    .dataframe tbody tr th {\n",
       "        vertical-align: top;\n",
       "    }\n",
       "\n",
       "    .dataframe thead th {\n",
       "        text-align: right;\n",
       "    }\n",
       "</style>\n",
       "<table border=\"1\" class=\"dataframe\">\n",
       "  <thead>\n",
       "    <tr style=\"text-align: right;\">\n",
       "      <th></th>\n",
       "      <th>Price</th>\n",
       "      <th>Age</th>\n",
       "      <th>KM</th>\n",
       "      <th>HP</th>\n",
       "      <th>MetColor</th>\n",
       "      <th>Automatic</th>\n",
       "      <th>CC</th>\n",
       "      <th>Weight</th>\n",
       "    </tr>\n",
       "  </thead>\n",
       "  <tbody>\n",
       "    <tr>\n",
       "      <th>Price</th>\n",
       "      <td>1.000000</td>\n",
       "      <td>-0.878407</td>\n",
       "      <td>-0.574720</td>\n",
       "      <td>0.309902</td>\n",
       "      <td>0.112041</td>\n",
       "      <td>0.033081</td>\n",
       "      <td>0.165067</td>\n",
       "      <td>0.581198</td>\n",
       "    </tr>\n",
       "    <tr>\n",
       "      <th>Age</th>\n",
       "      <td>-0.878407</td>\n",
       "      <td>1.000000</td>\n",
       "      <td>0.512735</td>\n",
       "      <td>-0.157904</td>\n",
       "      <td>-0.099659</td>\n",
       "      <td>0.032573</td>\n",
       "      <td>-0.120706</td>\n",
       "      <td>-0.464299</td>\n",
       "    </tr>\n",
       "    <tr>\n",
       "      <th>KM</th>\n",
       "      <td>-0.574720</td>\n",
       "      <td>0.512735</td>\n",
       "      <td>1.000000</td>\n",
       "      <td>-0.335285</td>\n",
       "      <td>-0.093825</td>\n",
       "      <td>-0.081248</td>\n",
       "      <td>0.299993</td>\n",
       "      <td>-0.026271</td>\n",
       "    </tr>\n",
       "    <tr>\n",
       "      <th>HP</th>\n",
       "      <td>0.309902</td>\n",
       "      <td>-0.157904</td>\n",
       "      <td>-0.335285</td>\n",
       "      <td>1.000000</td>\n",
       "      <td>0.064749</td>\n",
       "      <td>0.013755</td>\n",
       "      <td>0.053758</td>\n",
       "      <td>0.086737</td>\n",
       "    </tr>\n",
       "    <tr>\n",
       "      <th>MetColor</th>\n",
       "      <td>0.112041</td>\n",
       "      <td>-0.099659</td>\n",
       "      <td>-0.093825</td>\n",
       "      <td>0.064749</td>\n",
       "      <td>1.000000</td>\n",
       "      <td>-0.013973</td>\n",
       "      <td>0.029189</td>\n",
       "      <td>0.057142</td>\n",
       "    </tr>\n",
       "    <tr>\n",
       "      <th>Automatic</th>\n",
       "      <td>0.033081</td>\n",
       "      <td>0.032573</td>\n",
       "      <td>-0.081248</td>\n",
       "      <td>0.013755</td>\n",
       "      <td>-0.013973</td>\n",
       "      <td>1.000000</td>\n",
       "      <td>-0.069321</td>\n",
       "      <td>0.057249</td>\n",
       "    </tr>\n",
       "    <tr>\n",
       "      <th>CC</th>\n",
       "      <td>0.165067</td>\n",
       "      <td>-0.120706</td>\n",
       "      <td>0.299993</td>\n",
       "      <td>0.053758</td>\n",
       "      <td>0.029189</td>\n",
       "      <td>-0.069321</td>\n",
       "      <td>1.000000</td>\n",
       "      <td>0.651450</td>\n",
       "    </tr>\n",
       "    <tr>\n",
       "      <th>Weight</th>\n",
       "      <td>0.581198</td>\n",
       "      <td>-0.464299</td>\n",
       "      <td>-0.026271</td>\n",
       "      <td>0.086737</td>\n",
       "      <td>0.057142</td>\n",
       "      <td>0.057249</td>\n",
       "      <td>0.651450</td>\n",
       "      <td>1.000000</td>\n",
       "    </tr>\n",
       "  </tbody>\n",
       "</table>\n",
       "</div>"
      ],
      "text/plain": [
       "              Price       Age        KM        HP  MetColor  Automatic  \\\n",
       "Price      1.000000 -0.878407 -0.574720  0.309902  0.112041   0.033081   \n",
       "Age       -0.878407  1.000000  0.512735 -0.157904 -0.099659   0.032573   \n",
       "KM        -0.574720  0.512735  1.000000 -0.335285 -0.093825  -0.081248   \n",
       "HP         0.309902 -0.157904 -0.335285  1.000000  0.064749   0.013755   \n",
       "MetColor   0.112041 -0.099659 -0.093825  0.064749  1.000000  -0.013973   \n",
       "Automatic  0.033081  0.032573 -0.081248  0.013755 -0.013973   1.000000   \n",
       "CC         0.165067 -0.120706  0.299993  0.053758  0.029189  -0.069321   \n",
       "Weight     0.581198 -0.464299 -0.026271  0.086737  0.057142   0.057249   \n",
       "\n",
       "                 CC    Weight  \n",
       "Price      0.165067  0.581198  \n",
       "Age       -0.120706 -0.464299  \n",
       "KM         0.299993 -0.026271  \n",
       "HP         0.053758  0.086737  \n",
       "MetColor   0.029189  0.057142  \n",
       "Automatic -0.069321  0.057249  \n",
       "CC         1.000000  0.651450  \n",
       "Weight     0.651450  1.000000  "
      ]
     },
     "execution_count": 34,
     "metadata": {},
     "output_type": "execute_result"
    }
   ],
   "source": [
    "corr = cars.corr()\n",
    "corr"
   ]
  },
  {
   "cell_type": "code",
   "execution_count": 35,
   "id": "ba59f363",
   "metadata": {},
   "outputs": [
    {
     "data": {
      "text/plain": [
       "<AxesSubplot:>"
      ]
     },
     "execution_count": 35,
     "metadata": {},
     "output_type": "execute_result"
    },
    {
     "data": {
      "image/png": "[encoded data removed]",
      "text/plain": [
       "<Figure size 576x288 with 2 Axes>"
      ]
     },
     "metadata": {
      "needs_background": "light"
     },
     "output_type": "display_data"
    }
   ],
   "source": [
    "plt.figure(figsize=(8,4))\n",
    "sns.heatmap(corr,annot = True)"
   ]
  },
  {
   "cell_type": "markdown",
   "id": "17b0d26d",
   "metadata": {},
   "source": [
    "# Linear Regression"
   ]
  },
  {
   "cell_type": "code",
   "execution_count": 36,
   "id": "dcd3cd99",
   "metadata": {},
   "outputs": [],
   "source": [
    "car3 = cars.dropna()"
   ]
  },
  {
   "cell_type": "code",
   "execution_count": 38,
   "id": "3a1744d3",
   "metadata": {},
   "outputs": [],
   "source": [
    "s= car3['Age']\n",
    "c= car3['Price']\n",
    "x = np.array(s).reshape(-1,1)\n",
    "y = np.array(c)"
   ]
  },
  {
   "cell_type": "code",
   "execution_count": 39,
   "id": "d5793418",
   "metadata": {},
   "outputs": [
    {
     "name": "stdout",
     "output_type": "stream",
     "text": [
      "Slope: [-170.69560407]\n",
      "Intercept: 20237.109786637702\n"
     ]
    }
   ],
   "source": [
    "from sklearn.linear_model import LinearRegression\n",
    "regressor = LinearRegression()\n",
    "regressor.fit(x,y)\n",
    "print('Slope:', regressor.coef_)\n",
    "print(\"Intercept:\", regressor.intercept_)"
   ]
  },
  {
   "cell_type": "code",
   "execution_count": 40,
   "id": "bc564bb7",
   "metadata": {},
   "outputs": [],
   "source": [
    "y_predicted= regressor.predict(x)"
   ]
  },
  {
   "cell_type": "code",
   "execution_count": 41,
   "id": "82750a05",
   "metadata": {},
   "outputs": [
    {
     "name": "stdout",
     "output_type": "stream",
     "text": [
      "Root mean square: 3034268.418320093\n",
      "R2 score: 0.7703685164960272\n"
     ]
    }
   ],
   "source": [
    "from sklearn.metrics import mean_squared_error, r2_score\n",
    "rmse= mean_squared_error(y,y_predicted)\n",
    "R2 = r2_score(y,y_predicted)\n",
    "print('Root mean square:', rmse)\n",
    "print('R2 score:', R2)\n"
   ]
  },
  {
   "cell_type": "code",
   "execution_count": 43,
   "id": "7153e5b7",
   "metadata": {},
   "outputs": [
    {
     "data": {
      "image/png": "[encoded data removed]",
      "text/plain": [
       "<Figure size 432x288 with 1 Axes>"
      ]
     },
     "metadata": {
      "needs_background": "light"
     },
     "output_type": "display_data"
    }
   ],
   "source": [
    "plt.scatter(x,y,color='red')\n",
    "plt.plot(x,y_predicted, color='blue')\n",
    "plt.title(\"Linear Regression\")\n",
    "plt.xlabel(\"Age\")\n",
    "plt.ylabel(\"Price\")\n",
    "plt.show()"
   ]
  },
  {
   "cell_type": "code",
   "execution_count": 44,
   "id": "49180f19",
   "metadata": {},
   "outputs": [
    {
     "name": "stdout",
     "output_type": "stream",
     "text": [
      "[13921.37243613  9141.89552223]\n"
     ]
    }
   ],
   "source": [
    "x_new= np.array([37,65]).reshape(-1,1)\n",
    "y_predictednew=regressor.predict(x_new)\n",
    "print(y_predictednew)\n"
   ]
  },
  {
   "cell_type": "code",
   "execution_count": 45,
   "id": "f2662990",
   "metadata": {},
   "outputs": [
    {
     "data": {
      "text/html": [
       "<div>\n",
       "<style scoped>\n",
       "    .dataframe tbody tr th:only-of-type {\n",
       "        vertical-align: middle;\n",
       "    }\n",
       "\n",
       "    .dataframe tbody tr th {\n",
       "        vertical-align: top;\n",
       "    }\n",
       "\n",
       "    .dataframe thead th {\n",
       "        text-align: right;\n",
       "    }\n",
       "</style>\n",
       "<table border=\"1\" class=\"dataframe\">\n",
       "  <thead>\n",
       "    <tr style=\"text-align: right;\">\n",
       "      <th></th>\n",
       "      <th>Price</th>\n",
       "      <th>Age</th>\n",
       "      <th>KM</th>\n",
       "      <th>HP</th>\n",
       "      <th>MetColor</th>\n",
       "      <th>Automatic</th>\n",
       "      <th>CC</th>\n",
       "      <th>Weight</th>\n",
       "    </tr>\n",
       "  </thead>\n",
       "  <tbody>\n",
       "    <tr>\n",
       "      <th>Price</th>\n",
       "      <td>1.000000</td>\n",
       "      <td>-0.877706</td>\n",
       "      <td>-0.601944</td>\n",
       "      <td>0.334261</td>\n",
       "      <td>0.117381</td>\n",
       "      <td>0.045111</td>\n",
       "      <td>0.099880</td>\n",
       "      <td>0.532614</td>\n",
       "    </tr>\n",
       "    <tr>\n",
       "      <th>Age</th>\n",
       "      <td>-0.877706</td>\n",
       "      <td>1.000000</td>\n",
       "      <td>0.525695</td>\n",
       "      <td>-0.162063</td>\n",
       "      <td>-0.106291</td>\n",
       "      <td>0.026304</td>\n",
       "      <td>-0.084851</td>\n",
       "      <td>-0.442295</td>\n",
       "    </tr>\n",
       "    <tr>\n",
       "      <th>KM</th>\n",
       "      <td>-0.601944</td>\n",
       "      <td>0.525695</td>\n",
       "      <td>1.000000</td>\n",
       "      <td>-0.368629</td>\n",
       "      <td>-0.109031</td>\n",
       "      <td>-0.054777</td>\n",
       "      <td>0.319733</td>\n",
       "      <td>-0.029703</td>\n",
       "    </tr>\n",
       "    <tr>\n",
       "      <th>HP</th>\n",
       "      <td>0.334261</td>\n",
       "      <td>-0.162063</td>\n",
       "      <td>-0.368629</td>\n",
       "      <td>1.000000</td>\n",
       "      <td>0.065218</td>\n",
       "      <td>0.023112</td>\n",
       "      <td>0.037291</td>\n",
       "      <td>0.084527</td>\n",
       "    </tr>\n",
       "    <tr>\n",
       "      <th>MetColor</th>\n",
       "      <td>0.117381</td>\n",
       "      <td>-0.106291</td>\n",
       "      <td>-0.109031</td>\n",
       "      <td>0.065218</td>\n",
       "      <td>1.000000</td>\n",
       "      <td>-0.000476</td>\n",
       "      <td>0.009902</td>\n",
       "      <td>0.055382</td>\n",
       "    </tr>\n",
       "    <tr>\n",
       "      <th>Automatic</th>\n",
       "      <td>0.045111</td>\n",
       "      <td>0.026304</td>\n",
       "      <td>-0.054777</td>\n",
       "      <td>0.023112</td>\n",
       "      <td>-0.000476</td>\n",
       "      <td>1.000000</td>\n",
       "      <td>-0.053516</td>\n",
       "      <td>0.069788</td>\n",
       "    </tr>\n",
       "    <tr>\n",
       "      <th>CC</th>\n",
       "      <td>0.099880</td>\n",
       "      <td>-0.084851</td>\n",
       "      <td>0.319733</td>\n",
       "      <td>0.037291</td>\n",
       "      <td>0.009902</td>\n",
       "      <td>-0.053516</td>\n",
       "      <td>1.000000</td>\n",
       "      <td>0.623643</td>\n",
       "    </tr>\n",
       "    <tr>\n",
       "      <th>Weight</th>\n",
       "      <td>0.532614</td>\n",
       "      <td>-0.442295</td>\n",
       "      <td>-0.029703</td>\n",
       "      <td>0.084527</td>\n",
       "      <td>0.055382</td>\n",
       "      <td>0.069788</td>\n",
       "      <td>0.623643</td>\n",
       "      <td>1.000000</td>\n",
       "    </tr>\n",
       "  </tbody>\n",
       "</table>\n",
       "</div>"
      ],
      "text/plain": [
       "              Price       Age        KM        HP  MetColor  Automatic  \\\n",
       "Price      1.000000 -0.877706 -0.601944  0.334261  0.117381   0.045111   \n",
       "Age       -0.877706  1.000000  0.525695 -0.162063 -0.106291   0.026304   \n",
       "KM        -0.601944  0.525695  1.000000 -0.368629 -0.109031  -0.054777   \n",
       "HP         0.334261 -0.162063 -0.368629  1.000000  0.065218   0.023112   \n",
       "MetColor   0.117381 -0.106291 -0.109031  0.065218  1.000000  -0.000476   \n",
       "Automatic  0.045111  0.026304 -0.054777  0.023112 -0.000476   1.000000   \n",
       "CC         0.099880 -0.084851  0.319733  0.037291  0.009902  -0.053516   \n",
       "Weight     0.532614 -0.442295 -0.029703  0.084527  0.055382   0.069788   \n",
       "\n",
       "                 CC    Weight  \n",
       "Price      0.099880  0.532614  \n",
       "Age       -0.084851 -0.442295  \n",
       "KM         0.319733 -0.029703  \n",
       "HP         0.037291  0.084527  \n",
       "MetColor   0.009902  0.055382  \n",
       "Automatic -0.053516  0.069788  \n",
       "CC         1.000000  0.623643  \n",
       "Weight     0.623643  1.000000  "
      ]
     },
     "execution_count": 45,
     "metadata": {},
     "output_type": "execute_result"
    }
   ],
   "source": [
    "car2 = cars.dropna()\n",
    "corr = car2.corr()\n",
    "corr"
   ]
  },
  {
   "cell_type": "code",
   "execution_count": 46,
   "id": "d127024a",
   "metadata": {},
   "outputs": [
    {
     "data": {
      "text/plain": [
       "<AxesSubplot:>"
      ]
     },
     "execution_count": 46,
     "metadata": {},
     "output_type": "execute_result"
    },
    {
     "data": {
      "image/png": "[encoded data removed]",
      "text/plain": [
       "<Figure size 576x288 with 2 Axes>"
      ]
     },
     "metadata": {
      "needs_background": "light"
     },
     "output_type": "display_data"
    }
   ],
   "source": [
    "plt.figure(figsize=(8,4))\n",
    "sns.heatmap(corr, annot=True)"
   ]
  },
  {
   "cell_type": "markdown",
   "id": "ed1707b4",
   "metadata": {},
   "source": [
    "# 3D Plot"
   ]
  },
  {
   "cell_type": "code",
   "execution_count": 48,
   "id": "739fa5d7",
   "metadata": {},
   "outputs": [
    {
     "data": {
      "image/png": "[encoded data removed]",
      "text/plain": [
       "<Figure size 432x288 with 1 Axes>"
      ]
     },
     "metadata": {
      "needs_background": "light"
     },
     "output_type": "display_data"
    }
   ],
   "source": [
    "# importing mplot3d toolkits\n",
    "from mpl_toolkits import mplot3d\n",
    "import numpy as np\n",
    "import matplotlib.pyplot as plt\n",
    "\n",
    "fig = plt.figure()\n",
    "\n",
    "# syntax for 3-D projection\n",
    "ax = plt.axes(projection ='3d')\n",
    "\n",
    "# defining axes\n",
    "z = np.linspace(0, 1, 100)\n",
    "x = z * np.sin(25 * z)\n",
    "y = z * np.cos(25 * z)\n",
    "c = x + y\n",
    "ax.scatter(x, y, z, c = c)\n",
    "\n",
    "# syntax for plotting\n",
    "ax.set_title('3d Scatter plot')\n",
    "plt.show()"
   ]
  }
 ],
 "metadata": {
  "kernelspec": {
   "display_name": "Python 3 (ipykernel)",
   "language": "python",
   "name": "python3"
  },
  "language_info": {
   "codemirror_mode": {
    "name": "ipython",
    "version": 3
   },
   "file_extension": ".py",
   "mimetype": "text/x-python",
   "name": "python",
   "nbconvert_exporter": "python",
   "pygments_lexer": "ipython3",
   "version": "3.9.7"
  }
 },
 "nbformat": 4,
 "nbformat_minor": 5
}
